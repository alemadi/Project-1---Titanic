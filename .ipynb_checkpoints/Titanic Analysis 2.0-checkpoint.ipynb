{
 "cells": [
  {
   "cell_type": "markdown",
   "metadata": {},
   "source": [
    "Index:\n",
    "\n",
    "1- Data Exploration<br/>\n",
    "2- Data Wrangling<br/>\n",
    "3- Pre-Analysis<br/>\n",
    "3- Graphs<br/>\n",
    "4- Main Analysis<br/>\n",
    "5- Conclusion<br/>\n",
    " \n",
    "\n"
   ]
  },
  {
   "cell_type": "code",
   "execution_count": 18,
   "metadata": {
    "collapsed": true
   },
   "outputs": [],
   "source": [
    "# Importing libararies and files\n",
    "\n",
    "import pandas as pd\n",
    "import numpy as np\n",
    "import csv\n",
    "import matplotlib.pyplot as plt\n",
    "import seaborn as sns\n",
    "\n",
    "file = 'titanic-data.csv'\n",
    "\n",
    "data = pd.read_csv(file)\n",
    "\n"
   ]
  },
  {
   "cell_type": "markdown",
   "metadata": {},
   "source": [
    "## Data Exploration\n",
    "\n",
    "Here I will try to answer the following questions: \n",
    "- What are the data type(s)?\n",
    "- Is the data clean?\n",
    "    - Is there duplicates?\n",
    "    - Are the types of data correctly classified?\n",
    "    - Is there dirty data that needs cleaning up? \n",
    "    \n",
    " \n"
   ]
  },
  {
   "cell_type": "code",
   "execution_count": 19,
   "metadata": {},
   "outputs": [
    {
     "name": "stdout",
     "output_type": "stream",
     "text": [
      "<class 'pandas.core.frame.DataFrame'>\n",
      "RangeIndex: 891 entries, 0 to 890\n",
      "Data columns (total 12 columns):\n",
      "PassengerId    891 non-null int64\n",
      "Survived       891 non-null int64\n",
      "Pclass         891 non-null int64\n",
      "Name           891 non-null object\n",
      "Sex            891 non-null object\n",
      "Age            714 non-null float64\n",
      "SibSp          891 non-null int64\n",
      "Parch          891 non-null int64\n",
      "Ticket         891 non-null object\n",
      "Fare           891 non-null float64\n",
      "Cabin          204 non-null object\n",
      "Embarked       889 non-null object\n",
      "dtypes: float64(2), int64(5), object(5)\n",
      "memory usage: 83.6+ KB\n",
      "None\n",
      "   PassengerId  Survived  Pclass  \\\n",
      "0            1         0       3   \n",
      "1            2         1       1   \n",
      "2            3         1       3   \n",
      "3            4         1       1   \n",
      "4            5         0       3   \n",
      "\n",
      "                                                Name     Sex   Age  SibSp  \\\n",
      "0                            Braund, Mr. Owen Harris    male  22.0      1   \n",
      "1  Cumings, Mrs. John Bradley (Florence Briggs Th...  female  38.0      1   \n",
      "2                             Heikkinen, Miss. Laina  female  26.0      0   \n",
      "3       Futrelle, Mrs. Jacques Heath (Lily May Peel)  female  35.0      1   \n",
      "4                           Allen, Mr. William Henry    male  35.0      0   \n",
      "\n",
      "   Parch            Ticket     Fare Cabin Embarked  \n",
      "0      0         A/5 21171   7.2500   NaN        S  \n",
      "1      0          PC 17599  71.2833   C85        C  \n",
      "2      0  STON/O2. 3101282   7.9250   NaN        S  \n",
      "3      0            113803  53.1000  C123        S  \n",
      "4      0            373450   8.0500   NaN        S  \n",
      "(891, 12)\n"
     ]
    }
   ],
   "source": [
    "#What are the data type(s)?\n",
    "print(data.info()) # There seems to be missing values in the age and cabin column\n",
    "\n",
    "\n",
    "\n",
    "\n",
    "# Data Head and shape\n",
    "print(data.head())\n",
    "\n",
    "print(data.shape) # There are 891 rows and 12 columns\n",
    "\n"
   ]
  },
  {
   "cell_type": "markdown",
   "metadata": {},
   "source": [
    "## Data Wrangling\n",
    "\n",
    "There are 177 rows missing in the age column. That is a lot of missing values. I will remove the missing values, since, if I impute them, it will have a bias in my analysis. Note: I should use this (dropped_age variable) only in age-related analyses\n",
    "I noticed that there is a lot of values missing in the Cabin column (687 values), and there is a few values missing in the embarked column. "
   ]
  },
  {
   "cell_type": "code",
   "execution_count": 3,
   "metadata": {},
   "outputs": [
    {
     "name": "stdout",
     "output_type": "stream",
     "text": [
      "<class 'pandas.core.frame.DataFrame'>\n",
      "Int64Index: 714 entries, 0 to 890\n",
      "Data columns (total 12 columns):\n",
      "PassengerId    714 non-null int64\n",
      "Survived       714 non-null int64\n",
      "Pclass         714 non-null int64\n",
      "Name           714 non-null object\n",
      "Sex            714 non-null object\n",
      "Age            714 non-null float64\n",
      "SibSp          714 non-null int64\n",
      "Parch          714 non-null int64\n",
      "Ticket         714 non-null object\n",
      "Fare           714 non-null float64\n",
      "Cabin          185 non-null object\n",
      "Embarked       712 non-null object\n",
      "dtypes: float64(2), int64(5), object(5)\n",
      "memory usage: 72.5+ KB\n",
      "None\n"
     ]
    }
   ],
   "source": [
    "dropped_age = data.dropna(axis=0, subset=['Age'])\n",
    "print(dropped_age.info())\n",
    "\n"
   ]
  },
  {
   "cell_type": "markdown",
   "metadata": {},
   "source": [
    "## Pre-Analysis"
   ]
  },
  {
   "cell_type": "markdown",
   "metadata": {},
   "source": [
    "Initial Hypothesis:\n",
    "Groups that are more likely to survive: \n",
    "- 16-35 Years old\n",
    "- Males\n",
    "- Upper Class\n",
    "\n",
    "\n"
   ]
  },
  {
   "cell_type": "markdown",
   "metadata": {},
   "source": [
    "## Explaratory Graphs"
   ]
  },
  {
   "cell_type": "code",
   "execution_count": 43,
   "metadata": {},
   "outputs": [],
   "source": [
    "#groupbys\n",
    "parch_group = data.groupby('Parch')['PassengerId'].count()\n",
    "sib_group = data.groupby('SibSp')['PassengerId'].count()\n",
    "pclass_group = data.groupby('Pclass')['PassengerId'].count()\n",
    "survived_group = data.groupby('Survived')['PassengerId'].count()\n"
   ]
  },
  {
   "cell_type": "code",
   "execution_count": 63,
   "metadata": {},
   "outputs": [
    {
     "data": {
      "image/png": "[encoded data removed]",
      "text/plain": [
       "<matplotlib.figure.Figure at 0x16a58225400>"
      ]
     },
     "metadata": {},
     "output_type": "display_data"
    },
    {
     "data": {
      "image/png": "[encoded data removed]",
      "text/plain": [
       "<matplotlib.figure.Figure at 0x16a580560b8>"
      ]
     },
     "metadata": {},
     "output_type": "display_data"
    },
    {
     "data": {
      "image/png": "[encoded data removed]",
      "text/plain": [
       "<matplotlib.figure.Figure at 0x16a5803f3c8>"
      ]
     },
     "metadata": {},
     "output_type": "display_data"
    },
    {
     "data": {
      "image/png": "[encoded data removed]",
      "text/plain": [
       "<matplotlib.figure.Figure at 0x16a56471e48>"
      ]
     },
     "metadata": {},
     "output_type": "display_data"
    },
    {
     "data": {
      "image/png": "[encoded data removed]",
      "text/plain": [
       "<matplotlib.figure.Figure at 0x16a5848b630>"
      ]
     },
     "metadata": {},
     "output_type": "display_data"
    },
    {
     "data": {
      "text/plain": [
       "<function matplotlib.pyplot.close>"
      ]
     },
     "execution_count": 63,
     "metadata": {},
     "output_type": "execute_result"
    }
   ],
   "source": [
    "\n",
    "# Barchart of age distrbution\n",
    "data.plot(kind='hist', y = 'Age')\n",
    "plt.xlabel('Age', fontsize=18)\n",
    "plt.ylabel('Count', fontsize=16)\n",
    "plt.show() # Most of them are young adults between the ages of 20-30 years old\n",
    "plt.close\n",
    "\n",
    "\n",
    "# Barchart of parents/children\n",
    "parch_group.plot(kind='bar' )\n",
    "plt.xlabel('Number of Parents/Children Aboard', fontsize=18)\n",
    "plt.ylabel('Count', fontsize=16)\n",
    "plt.show() \n",
    "plt.close\n",
    "\n",
    "# Barchart of spouse/siblings\n",
    "sib_group.plot(kind='bar')\n",
    "plt.xlabel('Number of Siblings/Spouse Aboard', fontsize=18)\n",
    "plt.ylabel('Count', fontsize=16)\n",
    "plt.show() \n",
    "plt.close\n",
    "\n",
    "# Barchart of classes\n",
    "pclass_group.plot(kind = 'bar')\n",
    "plt.xlabel('Type of Class (1>2>3)', fontsize=18)\n",
    "plt.ylabel('Number of People in each Class', fontsize=16)\n",
    "plt.show()\n",
    "plt.close()\n",
    "\n",
    "# Barchart of surviorship\n",
    "survived_group.plot(kind='bar')\n",
    "plt.xlabel('Suvivorship', fontsize=18)\n",
    "plt.ylabel('Count', fontsize=16)\n",
    "plt.xticks([0,1],['Died', 'Survived'])\n",
    "plt.show() \n",
    "plt.close\n",
    "\n",
    "\n"
   ]
  },
  {
   "cell_type": "markdown",
   "metadata": {},
   "source": [
    "## Main Analysis"
   ]
  },
  {
   "cell_type": "code",
   "execution_count": null,
   "metadata": {},
   "outputs": [],
   "source": [
    "#Passenger Breakdown Based on Sex.\n",
    "data.groupby('Sex')['PassengerId'].count()\n",
    "\n",
    "#Survival based on sex.\n",
    "num_of_each_sex = data.groupby('Sex')['PassengerId'].count()\n",
    "\n",
    "# Since survival is based on 1 or 0, we can easily sum them up, to conclude how many people survived.\n",
    "survived_sexes = data.groupby('Sex')['Survived'].sum()\n",
    "print(survived_sexes)\n",
    "\n",
    "\n",
    "Percentage_of_survival_males = (survived_sexes['male'] / survived_sexes.sum()) * 100\n",
    "Percentage_of_survival_females = (survived_sexes['female'] / survived_sexes.sum()) * 100\n",
    "print(Percentage_of_survival_males)\n",
    "print(Percentage_of_survival_females)\n",
    "\n",
    "\n"
   ]
  },
  {
   "cell_type": "markdown",
   "metadata": {},
   "source": [
    "\n",
    "My initial hypothesis of males having a larger rate of survival was wrong. Females had a higher survival rate of 68%! \n",
    "\n",
    "Below I will figure out the survival percentage of each cabin class. I will test my hypothesis of higher class = higher survival percentage. \n",
    "\n"
   ]
  },
  {
   "cell_type": "code",
   "execution_count": 72,
   "metadata": {},
   "outputs": [
    {
     "name": "stdout",
     "output_type": "stream",
     "text": [
      "Pclass\n",
      "1    216\n",
      "2    184\n",
      "3    491\n",
      "Name: PassengerId, dtype: int64\n",
      "Pclass\n",
      "1    136\n",
      "2     87\n",
      "3    119\n",
      "Name: Survived, dtype: int64\n",
      "Pclass\n",
      "1    62.962963\n",
      "2    47.282609\n",
      "3    24.236253\n",
      "dtype: float64\n"
     ]
    },
    {
     "data": {
      "image/png": "[encoded data removed]",
      "text/plain": [
       "<matplotlib.figure.Figure at 0x16a57e04828>"
      ]
     },
     "metadata": {},
     "output_type": "display_data"
    }
   ],
   "source": [
    "#Group passengers by class\n",
    "total_class= data.groupby('Pclass')['PassengerId'].count()\n",
    "survived_classes = data.groupby('Pclass')['Survived'].sum()\n",
    "print(total_class)\n",
    "print(survived_classes)\n",
    "\n",
    "#group survivors by class \n",
    "percetage_of_survival_per_class = (survived_classes / total_class) * 100\n",
    "print(percetage_of_survival_per_class)\n",
    "\n",
    " \n",
    "percetage_of_survival_per_class.plot(kind='pie')\n",
    "plt.title('Percentage of Surivors per Class')\n",
    "plt.ylabel(\"\") \n",
    "plt.show()\n"
   ]
  },
  {
   "cell_type": "markdown",
   "metadata": {},
   "source": [
    "Indeed, as I predicted, the higher the class, the higher the survivorship rate, as shown in pie graph\n",
    "\n",
    "\n"
   ]
  },
  {
   "cell_type": "code",
   "execution_count": 69,
   "metadata": {},
   "outputs": [
    {
     "data": {
      "image/png": "[encoded data removed]",
      "text/plain": [
       "<matplotlib.figure.Figure at 0x16a56f12eb8>"
      ]
     },
     "metadata": {},
     "output_type": "display_data"
    }
   ],
   "source": [
    "\n",
    "survived_age_bool= dropped_age['Survived'] == 1\n",
    "survived_ages = dropped_age[survived_age_bool]['Age']\n",
    "\n",
    "survived_ages.plot(kind='hist')\n",
    "plt.xlabel('Ages')\n",
    "plt.show()\n",
    "\n",
    "\n",
    "\n",
    "\n"
   ]
  },
  {
   "cell_type": "code",
   "execution_count": 70,
   "metadata": {},
   "outputs": [
    {
     "name": "stdout",
     "output_type": "stream",
     "text": [
      "mean of survived ages:  28.343689655172415\n",
      "median of survived ages:  28.0\n",
      "miniumum of survived ages:  0.42\n",
      "maximum of survived ages:  80.0\n",
      "standard deviation of survived ages:  14.950951984140426\n"
     ]
    }
   ],
   "source": [
    "#Print age survival stats\n",
    "print('mean of survived ages: ' , survived_ages.mean())\n",
    "print('median of survived ages: ' ,survived_ages.median())\n",
    "print('miniumum of survived ages: ' ,survived_ages.min())\n",
    "print('maximum of survived ages: ' ,survived_ages.max())\n",
    "print('standard deviation of survived ages: ' ,survived_ages.std())\n",
    "\n"
   ]
  },
  {
   "cell_type": "markdown",
   "metadata": {},
   "source": [
    "Ages between 20-30 had the highest rate of survival. I was almost right with my intial hypothesis."
   ]
  },
  {
   "cell_type": "markdown",
   "metadata": {},
   "source": [
    "## Reviewer's suggestion:\n",
    "For instance, would a male passenger in the 1st class have a higher or lower survival chance then a female passenger in the 3rd class? The groupby() method can be of help in this regard."
   ]
  },
  {
   "cell_type": "code",
   "execution_count": 16,
   "metadata": {},
   "outputs": [
    {
     "name": "stdout",
     "output_type": "stream",
     "text": [
      "Pclass  Sex   \n",
      "1       female    0.968085\n",
      "        male      0.368852\n",
      "2       female    0.921053\n",
      "        male      0.157407\n",
      "3       female    0.500000\n",
      "        male      0.135447\n",
      "dtype: float64\n"
     ]
    }
   ],
   "source": [
    "survivorship_in_classes_by_sex =  data.groupby(['Pclass', 'Sex'])['Survived'].sum()\n",
    "total_class_by_sex= data.groupby(['Pclass', 'Sex'])['PassengerId'].count()\n",
    "\n",
    "print(survivorship_in_classes_by_sex/total_class_by_sex)\n"
   ]
  },
  {
   "cell_type": "markdown",
   "metadata": {},
   "source": [
    "Indeed, females had a higher survivorship in all classes"
   ]
  },
  {
   "cell_type": "markdown",
   "metadata": {},
   "source": [
    "\n",
    "\n",
    "\n"
   ]
  },
  {
   "cell_type": "markdown",
   "metadata": {
    "collapsed": true
   },
   "source": [
    "## Conclusion:\n",
    "\n",
    "**According to my initial hypothesis. **\n",
    "\n",
    "Findings that matched the hypothesis:\n",
    "- Young adults are the most likely to survive (20-30 years old)\n",
    "- Upper classes had a higher survival rate \n",
    "\n",
    "\n",
    "\n",
    "Findings that did not match with my initial hypothesis:\n",
    "- In fact, females had a better survival rate, not males.\n",
    "\n",
    "\n",
    "\n",
    "**Final Thoughts on the Dataset:**\n",
    "\n",
    "\n",
    "There were 1,317 passengers in the titanic (http://www.titanicfacts.net/). That means there are 426 missing passengers from the dataset.\n",
    "Although there 177 rows missing from the age column, I do not think it affected the findings of analysis much. I was also interested in the survival rates from each cabin, that would give us an interesting insight of which parts of the ship had a higher survival rate, unfortunately, most of that column is missing (687 values). \n"
   ]
  }
 ],
 "metadata": {
  "kernelspec": {
   "display_name": "Python [default]",
   "language": "python",
   "name": "python3"
  },
  "language_info": {
   "codemirror_mode": {
    "name": "ipython",
    "version": 3
   },
   "file_extension": ".py",
   "mimetype": "text/x-python",
   "name": "python",
   "nbconvert_exporter": "python",
   "pygments_lexer": "ipython3",
   "version": "3.6.2"
  }
 },
 "nbformat": 4,
 "nbformat_minor": 2
}
